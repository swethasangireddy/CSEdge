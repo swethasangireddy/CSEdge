{
 "cells": [
  {
   "cell_type": "code",
   "execution_count": 1,
   "id": "590bf308",
   "metadata": {},
   "outputs": [
    {
     "name": "stdout",
     "output_type": "stream",
     "text": [
      "Welcome to the Number Guessing Game!\n",
      "I'm thinking of a number between 1 and 100. Can you guess it?\n",
      "Enter your guess (between 1 and 100): 6\n",
      "Too low! Try a higher number.\n",
      "Enter your guess (between 1 and 100): 88\n",
      "Too low! Try a higher number.\n",
      "Enter your guess (between 1 and 100): 100\n",
      "Too high! Try a lower number.\n",
      "Enter your guess (between 1 and 100): 99\n",
      "Too high! Try a lower number.\n",
      "Enter your guess (between 1 and 100): 90\n",
      "Too low! Try a higher number.\n",
      "Enter your guess (between 1 and 100): 92\n",
      "Too high! Try a lower number.\n",
      "Enter your guess (between 1 and 100): 91\n",
      "Congratulations! You guessed the number 91 in 7 attempts.\n"
     ]
    }
   ],
   "source": [
    "import random\n",
    "\n",
    "def play_number_guessing_game():\n",
    "    print(\"Welcome to the Number Guessing Game!\")\n",
    "    print(\"I'm thinking of a number between 1 and 100. Can you guess it?\")\n",
    "    \n",
    "    # Generate a random number between 1 and 100\n",
    "    secret_number = random.randint(1, 100)\n",
    "    max_attempts = 10\n",
    "    attempts = 0\n",
    "    \n",
    "    while attempts < max_attempts:\n",
    "        try:\n",
    "            # Prompt the user to guess the number\n",
    "            guess = int(input(\"Enter your guess (between 1 and 100): \"))\n",
    "        except ValueError:\n",
    "            print(\"Invalid input. Please enter a valid integer between 1 and 100.\")\n",
    "            continue\n",
    "        \n",
    "        attempts += 1\n",
    "        \n",
    "        # Check if the guess is correct\n",
    "        if guess < secret_number:\n",
    "            print(\"Too low! Try a higher number.\")\n",
    "        elif guess > secret_number:\n",
    "            print(\"Too high! Try a lower number.\")\n",
    "        else:\n",
    "            print(f\"Congratulations! You guessed the number {secret_number} in {attempts} attempts.\")\n",
    "            break\n",
    "    \n",
    "    if attempts == max_attempts:\n",
    "        print(f\"Sorry, you've used up all {max_attempts} attempts. The secret number was {secret_number}.\")\n",
    "\n",
    "# Call the function to play the game\n",
    "play_number_guessing_game()\n"
   ]
  },
  {
   "cell_type": "code",
   "execution_count": null,
   "id": "2c38fe14",
   "metadata": {},
   "outputs": [],
   "source": []
  }
 ],
 "metadata": {
  "kernelspec": {
   "display_name": "Python 3 (ipykernel)",
   "language": "python",
   "name": "python3"
  },
  "language_info": {
   "codemirror_mode": {
    "name": "ipython",
    "version": 3
   },
   "file_extension": ".py",
   "mimetype": "text/x-python",
   "name": "python",
   "nbconvert_exporter": "python",
   "pygments_lexer": "ipython3",
   "version": "3.11.5"
  }
 },
 "nbformat": 4,
 "nbformat_minor": 5
}
