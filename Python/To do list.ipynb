{
 "cells": [
  {
   "cell_type": "code",
   "execution_count": 1,
   "id": "5d1cee8a",
   "metadata": {},
   "outputs": [
    {
     "ename": "SyntaxError",
     "evalue": "invalid non-printable character U+00A0 (24972052.py, line 51)",
     "output_type": "error",
     "traceback": [
      "\u001b[1;36m  Cell \u001b[1;32mIn[1], line 51\u001b[1;36m\u001b[0m\n\u001b[1;33m    main()\u001b[0m\n\u001b[1;37m    ^\u001b[0m\n\u001b[1;31mSyntaxError\u001b[0m\u001b[1;31m:\u001b[0m invalid non-printable character U+00A0\n"
     ]
    }
   ],
   "source": [
    "class TodoList:\n",
    "    def init(self):\n",
    "        self.tasks = []\n",
    "\n",
    "    def add_task(self, task):\n",
    "        self.tasks.append(task)\n",
    "        print(\"Task added successfully!\")\n",
    "\n",
    "    def remove_task(self, task):\n",
    "        if task in self.tasks:\n",
    "            self.tasks.remove(task)\n",
    "            print(\"Task removed successfully!\")\n",
    "        else:\n",
    "            print(\"Task not found in the list.\")\n",
    "\n",
    "    def show_tasks(self):\n",
    "        if self.tasks:\n",
    "            print(\"Your to-do list:\")\n",
    "            for index, task in enumerate(self.tasks, start=1):\n",
    "                print(f\"{index}. {task}\")\n",
    "        else:\n",
    "            print(\"Your to-do list is empty.\")\n",
    "\n",
    "def main():\n",
    "    todo_list = TodoList()\n",
    "\n",
    "    while True:\n",
    "        print(\"\\nMenu:\")\n",
    "        print(\"1. Add task\")\n",
    "        print(\"2. Remove task\")\n",
    "        print(\"3. Show tasks\")\n",
    "        print(\"4. Exit\")\n",
    "\n",
    "        choice = input(\"Enter your choice: \")\n",
    "\n",
    "        if choice == '1':\n",
    "            task = input(\"Enter task: \")\n",
    "            todo_list.add_task(task)\n",
    "        elif choice == '2':\n",
    "            task = input(\"Enter task to remove: \")\n",
    "            todo_list.remove_task(task)\n",
    "        elif choice == '3':\n",
    "            todo_list.show_tasks()\n",
    "        elif choice == '4':\n",
    "            print(\"Exiting the program.\")\n",
    "            break\n",
    "        else:\n",
    "            print(\"Invalid choice. Please try again.\")\n",
    "\n",
    "if name == \"main\":\n",
    "    main()"
   ]
  },
  {
   "cell_type": "code",
   "execution_count": null,
   "id": "1b3826ae",
   "metadata": {},
   "outputs": [
    {
     "name": "stdout",
     "output_type": "stream",
     "text": [
      "\n",
      "Menu:\n",
      "1. Add task\n",
      "2. Remove task\n",
      "3. Show tasks\n",
      "4. Exit\n"
     ]
    }
   ],
   "source": [
    "class TodoList:\n",
    "    def __init__(self):\n",
    "        self.tasks = []\n",
    "\n",
    "    def add_task(self, task):\n",
    "        self.tasks.append(task)\n",
    "        print(\"Task added successfully!\")\n",
    "\n",
    "    def remove_task(self, task):\n",
    "        if task in self.tasks:\n",
    "            self.tasks.remove(task)\n",
    "            print(\"Task removed successfully!\")\n",
    "        else:\n",
    "            print(\"Task not found in the list.\")\n",
    "\n",
    "    def show_tasks(self):\n",
    "        if self.tasks:\n",
    "            print(\"Your to-do list:\")\n",
    "            for index, task in enumerate(self.tasks, start=1):\n",
    "                print(f\"{index}. {task}\")\n",
    "        else:\n",
    "            print(\"Your to-do list is empty.\")\n",
    "\n",
    "def main():\n",
    "    todo_list = TodoList()\n",
    "\n",
    "    while True:\n",
    "        print(\"\\nMenu:\")\n",
    "        print(\"1. Add task\")\n",
    "        print(\"2. Remove task\")\n",
    "        print(\"3. Show tasks\")\n",
    "        print(\"4. Exit\")\n",
    "\n",
    "        choice = input(\"Enter your choice: \")\n",
    "\n",
    "        if choice == '1':\n",
    "            task = input(\"Enter task: \")\n",
    "            todo_list.add_task(task)\n",
    "        elif choice == '2':\n",
    "            task = input(\"Enter task to remove: \")\n",
    "            todo_list.remove_task(task)\n",
    "        elif choice == '3':\n",
    "            todo_list.show_tasks()\n",
    "        elif choice == '4':\n",
    "            print(\"Exiting the program.\")\n",
    "            break\n",
    "        else:\n",
    "            print(\"Invalid choice. Please try again.\")\n",
    "\n",
    "if __name__ == \"__main__\":\n",
    "    main()"
   ]
  },
  {
   "cell_type": "code",
   "execution_count": null,
   "id": "3f530133",
   "metadata": {},
   "outputs": [],
   "source": []
  }
 ],
 "metadata": {
  "kernelspec": {
   "display_name": "Python 3 (ipykernel)",
   "language": "python",
   "name": "python3"
  },
  "language_info": {
   "codemirror_mode": {
    "name": "ipython",
    "version": 3
   },
   "file_extension": ".py",
   "mimetype": "text/x-python",
   "name": "python",
   "nbconvert_exporter": "python",
   "pygments_lexer": "ipython3",
   "version": "3.11.5"
  }
 },
 "nbformat": 4,
 "nbformat_minor": 5
}
