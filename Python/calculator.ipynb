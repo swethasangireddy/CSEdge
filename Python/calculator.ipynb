{
 "cells": [
  {
   "cell_type": "code",
   "execution_count": 2,
   "id": "a6582523",
   "metadata": {},
   "outputs": [],
   "source": [
    "import tkinter as tk\n",
    "\n",
    "def btn_click(item):\n",
    "    global expression\n",
    "    expression = expression + str(item)\n",
    "    input_text.set(expression)\n",
    "\n",
    "def btn_clear():\n",
    "    global expression\n",
    "    expression = \"\"\n",
    "    input_text.set(\"\")\n",
    "\n",
    "def btn_equal():\n",
    "    global expression\n",
    "    try:\n",
    "        result = str(eval(expression))\n",
    "        input_text.set(result)\n",
    "        expression = \"\"\n",
    "    except:\n",
    "        input_text.set(\"Error\")\n",
    "        expression = \"\"\n",
    "\n",
    "expression = \"\"\n",
    "\n",
    "# Create a window\n",
    "window = tk.Tk()\n",
    "window.title(\"Calculator\")\n",
    "window.geometry(\"300x400\")\n",
    "window.resizable(False, False)\n",
    "\n",
    "# Entry field\n",
    "input_text = tk.StringVar()\n",
    "input_field = tk.Entry(window, textvariable=input_text, font=(\"Arial\", 18))\n",
    "input_field.grid(row=0, column=0, columnspan=4, padx=10, pady=10)\n",
    "\n",
    "# Buttons\n",
    "buttons = [\n",
    "    (\"7\", 1, 0), (\"8\", 1, 1), (\"9\", 1, 2), (\"/\", 1, 3),\n",
    "    (\"4\", 2, 0), (\"5\", 2, 1), (\"6\", 2, 2), (\"*\", 2, 3),\n",
    "    (\"1\", 3, 0), (\"2\", 3, 1), (\"3\", 3, 2), (\"-\", 3, 3),\n",
    "    (\"0\", 4, 0), (\".\", 4, 1), (\"=\", 4, 2), (\"+\", 4, 3)\n",
    "]\n",
    "\n",
    "for (text, row, col) in buttons:\n",
    "    btn = tk.Button(window, text=text, padx=20, pady=20, font=(\"Arial\", 14), command=lambda text=text: btn_click(text))\n",
    "    btn.grid(row=row, column=col)\n",
    "\n",
    "# Clear button\n",
    "btn_clear = tk.Button(window, text=\"C\", padx=20, pady=20, font=(\"Arial\", 14), command=btn_clear)\n",
    "btn_clear.grid(row=5, column=0, columnspan=3)\n",
    "\n",
    "# Equal button\n",
    "btn_equal = tk.Button(window, text=\"=\", padx=20, pady=20, font=(\"Arial\", 14), command=btn_equal)\n",
    "btn_equal.grid(row=5, column=3)\n",
    "\n",
    "window.mainloop()\n"
   ]
  },
  {
   "cell_type": "code",
   "execution_count": null,
   "id": "c8cec5c5",
   "metadata": {},
   "outputs": [],
   "source": []
  }
 ],
 "metadata": {
  "kernelspec": {
   "display_name": "Python 3 (ipykernel)",
   "language": "python",
   "name": "python3"
  },
  "language_info": {
   "codemirror_mode": {
    "name": "ipython",
    "version": 3
   },
   "file_extension": ".py",
   "mimetype": "text/x-python",
   "name": "python",
   "nbconvert_exporter": "python",
   "pygments_lexer": "ipython3",
   "version": "3.11.5"
  }
 },
 "nbformat": 4,
 "nbformat_minor": 5
}
